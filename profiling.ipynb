{
 "metadata": {
  "name": "profiling"
 },
 "nbformat": 3,
 "nbformat_minor": 0,
 "worksheets": [
  {
   "cells": [
    {
     "cell_type": "code",
     "collapsed": false,
     "input": [
      "cd profiling/"
     ],
     "language": "python",
     "metadata": {},
     "outputs": [
      {
       "output_type": "stream",
       "stream": "stdout",
       "text": [
        "/home/duke/Documents/PiN-TVB/profiling\n"
       ]
      }
     ],
     "prompt_number": 4
    },
    {
     "cell_type": "code",
     "collapsed": false,
     "input": [
      "ls"
     ],
     "language": "python",
     "metadata": {},
     "outputs": [
      {
       "output_type": "stream",
       "stream": "stdout",
       "text": [
        "cprof-0              massif-0                massif-7\r\n",
        "cprof-0.txt          massif-0-snapshots.txt  massif-7-snapshots.txt\r\n",
        "cprof-1              massif-0.txt            massif-7.txt\r\n",
        "cprof-1.txt          massif-1                massif_snapshots.py\r\n",
        "cprof-2              massif-1-snapshots.txt  normal-0.txt\r\n",
        "cprof-2.txt          massif-1.txt            normal-1.txt\r\n",
        "cprof-3              massif-2                normal-2.txt\r\n",
        "cprof-3.txt          massif-2-snapshots.txt  normal-3.txt\r\n",
        "cprof-4              massif-2.txt            normal-4.txt\r\n",
        "cprof-4.txt          massif-3                normal-5.txt\r\n",
        "cprof-5              massif-3-snapshots.txt  normal-6.txt\r\n",
        "cprof-5.txt          massif-3.txt            normal-7.txt\r\n",
        "cprof-6              massif-4                normal-8.txt\r\n",
        "cprof-6.txt          massif-4-snapshots.txt  \u001b[0m\u001b[01;32mrun-all-cprofile.sh\u001b[0m*\r\n",
        "cprof-7              massif-4.txt            \u001b[01;32mrun-all-normal.sh\u001b[0m*\r\n",
        "cprof-7.txt          massif-5                \u001b[01;32mrun-all-valgrind-massif.sh\u001b[0m*\r\n",
        "cprof-new-7          massif-5-snapshots.txt  \u001b[01;32msimulation.py\u001b[0m*\r\n",
        "cprof-new-7.txt      massif-5.txt            temp\r\n",
        "cprof-new-mkl-7      massif-6                \u001b[01;34mtvblib\u001b[0m/\r\n",
        "cprof-new-mkl-7.txt  massif-6-snapshots.txt\r\n",
        "foobar-7.txt         massif-6.txt\r\n"
       ]
      }
     ],
     "prompt_number": 7
    },
    {
     "cell_type": "code",
     "collapsed": false,
     "input": [
      "import pstats"
     ],
     "language": "python",
     "metadata": {},
     "outputs": [],
     "prompt_number": 6
    },
    {
     "cell_type": "code",
     "collapsed": false,
     "input": [
      "s0 = pstats.Stats('cprof-0').sort_stats('time')"
     ],
     "language": "python",
     "metadata": {},
     "outputs": [],
     "prompt_number": 40
    },
    {
     "cell_type": "code",
     "collapsed": false,
     "input": [
      "s0.print_stats(10)"
     ],
     "language": "python",
     "metadata": {},
     "outputs": [
      {
       "output_type": "stream",
       "stream": "stdout",
       "text": [
        "Wed Oct 23 13:35:17 2013    cprof-0\n",
        "\n",
        "         32892485 function calls (30660579 primitive calls) in 43.166 seconds\n",
        "\n",
        "   Ordered by: internal time\n",
        "   List reduced from 3468 to 10 due to restriction <10>\n",
        "\n",
        "   ncalls  tottime  percall  cumtime  percall filename:lineno(function)\n",
        "   963941   11.727    0.000   11.727    0.000 {numpy.core.multiarray.array}\n",
        "       70    6.142    0.088   24.831    0.355 /opt/anaconda/lib/python2.7/site-packages/numpy/lib/npyio.py:610(loadtxt)\n",
        "      517    5.188    0.010   16.249    0.031 /home/duke/Documents/PiN-TVB/profiling/tvblib/tvb/simulator/simulator.py:348(__call__)\n",
        "3739686/1870356    3.185    0.000    3.394    0.000 /opt/anaconda/lib/python2.7/site-packages/numpy/lib/npyio.py:751(pack_items)\n",
        "    96000    2.570    0.000    4.948    0.000 /opt/anaconda/lib/python2.7/site-packages/numexpr/necompiler.py:637(evaluate)\n",
        "  1870430    1.983    0.000    3.226    0.000 /opt/anaconda/lib/python2.7/site-packages/numpy/lib/npyio.py:767(split_line)\n",
        "  2817928    1.248    0.000    1.248    0.000 /opt/anaconda/lib/python2.7/site-packages/numpy/lib/npyio.py:598(<lambda>)\n",
        "  1966570    1.235    0.000    1.235    0.000 {zip}\n",
        "  3741649    0.904    0.000    0.904    0.000 {method 'split' of 'str' objects}\n",
        "    16000    0.757    0.000   10.064    0.001 /home/duke/Documents/PiN-TVB/profiling/tvblib/tvb/simulator/integrators.py:321(scheme)\n",
        "\n",
        "\n"
       ]
      },
      {
       "output_type": "pyout",
       "prompt_number": 41,
       "text": [
        "<pstats.Stats instance at 0x43cca70>"
       ]
      }
     ],
     "prompt_number": 41
    },
    {
     "cell_type": "code",
     "collapsed": false,
     "input": [
      "w, l = s0.get_print_list((10,))"
     ],
     "language": "python",
     "metadata": {},
     "outputs": [],
     "prompt_number": 37
    },
    {
     "cell_type": "code",
     "collapsed": false,
     "input": [
      "s0.print_line(l[1])"
     ],
     "language": "python",
     "metadata": {},
     "outputs": [
      {
       "output_type": "stream",
       "stream": "stdout",
       "text": [
        "       70    6.142    0.088   24.831    0.355 /opt/anaconda/lib/python2.7/site-packages/numpy/lib/npyio.py:610(loadtxt)\n"
       ]
      }
     ],
     "prompt_number": 81
    },
    {
     "cell_type": "code",
     "collapsed": false,
     "input": [
      "cc, nc, tt, ct, callers = s0.stats[l[1]]"
     ],
     "language": "python",
     "metadata": {},
     "outputs": [],
     "prompt_number": 46
    },
    {
     "cell_type": "markdown",
     "metadata": {},
     "source": [
      "We'll need a trick for guessing the module name based on a path"
     ]
    },
    {
     "cell_type": "code",
     "collapsed": false,
     "input": [
      "import os, os.path\n",
      "\n",
      "def ismodpath(p):\n",
      "    try:\n",
      "        os.stat(os.path.join(p, '__init__.py'))\n",
      "        return True\n",
      "    except:\n",
      "        return False\n",
      "\n",
      "def guessmodname1(p, base=[]):\n",
      "    if p.endswith('.py'):\n",
      "        base = [p.split(os.path.sep)[-1][:-3]] + base\n",
      "    dir = os.path.dirname(p)\n",
      "    if ismodpath(dir):\n",
      "        return guessmodname1(dir, base=[os.path.split(dir)[1]] + base)\n",
      "    else:\n",
      "        return base\n",
      "    \n",
      "def guessmodname(p):\n",
      "    if p[0] == '~':\n",
      "        return '<builtin>'\n",
      "    else:\n",
      "        return '.'.join(guessmodname1(p))"
     ],
     "language": "python",
     "metadata": {},
     "outputs": [],
     "prompt_number": 152
    },
    {
     "cell_type": "code",
     "collapsed": false,
     "input": [
      "for li in s0.get_print_list((20, ))[1]:\n",
      "    cc, nc, tt, ct, _ = s0.stats[li]\n",
      "    fpath, fline, fname = li\n",
      "    print \"%15d %15g %15g %35s - %s\" % (nc, tt, ct, guessmodname(fpath), fname)"
     ],
     "language": "python",
     "metadata": {},
     "outputs": [
      {
       "output_type": "stream",
       "stream": "stdout",
       "text": [
        "   Ordered by: internal time\n",
        "   List reduced from 3468 to 20 due to restriction <20>\n",
        "\n",
        "         963941         11.7274         11.7274                           <builtin> - <numpy.core.multiarray.array>\n",
        "             70          6.1415         24.8313                     numpy.lib.npyio - loadtxt\n",
        "            517         5.18777          16.249             tvb.simulator.simulator - __call__\n",
        "        3739686         3.18454         3.39411                     numpy.lib.npyio - pack_items\n",
        "          96000          2.5699           4.948                  numexpr.necompiler - evaluate\n",
        "        1870430         1.98349         3.22639                     numpy.lib.npyio - split_line\n",
        "        2817928         1.24771         1.24771                     numpy.lib.npyio - <lambda>\n",
        "        1966570         1.23482         1.23482                           <builtin> - <zip>\n",
        "        3741649        0.904211        0.904211                           <builtin> - <method 'split' of 'str' objects>\n",
        "          16000        0.757394         10.0639           tvb.simulator.integrators - scheme\n",
        "          48000        0.660596         8.45607                tvb.simulator.models - dfun\n",
        "          96002         0.57248        0.669856                  numexpr.necompiler - getContext\n",
        "        4916006        0.467566        0.467566                           <builtin> - <method 'append' of 'list' objects>\n",
        "         912000        0.456696        0.456696                  numexpr.necompiler - getType\n",
        "         912341        0.363715        0.859469                  numpy.core.numeric - asarray\n",
        "         592345        0.344695        0.601507               tvb.basic.traits.util - get\n",
        "         290204        0.343984         1.31722                                copy - deepcopy\n",
        "        1871964        0.339303        0.339303                           <builtin> - <method 'strip' of 'str' objects>\n",
        "          16000         0.31763        0.679277              tvb.simulator.coupling - __call__\n",
        "         838805         0.30083        0.301047                           <builtin> - <hasattr>\n"
       ]
      }
     ],
     "prompt_number": 153
    },
    {
     "cell_type": "code",
     "collapsed": false,
     "input": [
      "def refined_stats(stat, nresults):\n",
      "    for li in stat.get_print_list((nresults,))[1]:\n",
      "        cc, nc, tt, ct, _ = s0.stats[li]\n",
      "        fpath, fline, fname = li\n",
      "        yield nc, tt, ct, guessmodname(fpath), fname"
     ],
     "language": "python",
     "metadata": {},
     "outputs": [],
     "prompt_number": 154
    },
    {
     "cell_type": "code",
     "collapsed": false,
     "input": [
      "fd = open(\"cprofsummary.tex\", \"w\")\n",
      "print >>fd, r\"\\begin{table}\"\n",
      "print >>fd, r\"{\\footnotesize \\begin{tabular}{r | r | l }\"\n",
      "print >>fd, \"Sim. & %15s & %35s\" % (\"Time (s)\", \"Module:Function\"), r\"\\\\\"\n",
      "print >>fd, r\"\\hline \\\\\"\n",
      "for i in range(8):\n",
      "    s0 = pstats.Stats('cprof-%d' % (i,)).sort_stats('time')\n",
      "    pre = [\"R / G2D / 20 \", \"2\", \" JR / 20 \", \"2\" , \"S / G2D / 20\", \"2\" , \"JR / 20\", \"2\"][i]\n",
      "    for j, (nc, tt, ct, fp, fn) in enumerate(refined_stats(s0, 5)):\n",
      "        if 'mtrand' in fn:\n",
      "            fn = '<mtrand.RandomState.normal>'\n",
      "        if fp == '<builtin>':\n",
      "            fn = r\"\\texttt{%s}\" % (fn,)\n",
      "        else:\n",
      "            fn = r\"\\texttt{%s}, \\texttt{%s}\" % (fp, fn)\n",
      "        fn = fn.replace('_', r'\\_')\n",
      "        print >>fd, pre, \"& %15g & %s\" % (tt, fn), r\"\\\\\"\n",
      "        if j > 0:\n",
      "            pre = ''\n",
      "    print >>fd, r\"\\hline\"\n",
      "print >>fd, r\"\"\"\n",
      "\\end{tabular}\n",
      "\\label{tab:profiling}\n",
      "\\caption{Profiling results for several simulation types, ``R'' for region \n",
      "level simulations, ``S'' for surface level. ``G2D'' signifies the generic\n",
      "two-dimensional oscillator whereas ``JR'' is the Jansen-Rit model. Finally,\n",
      "either 20 m/s or 2 m/s conduciton velocity was used. Time is given as the\n",
      "total time spent in the method or function listed in the right column.}\n",
      "}\\end{table}\n",
      "\"\"\"   \n",
      "fd.close()"
     ],
     "language": "python",
     "metadata": {},
     "outputs": [
      {
       "output_type": "stream",
       "stream": "stdout",
       "text": [
        "   Ordered by: internal time\n",
        "   List reduced from 3468 to 5 due to restriction <5>\n",
        "\n",
        "   Ordered by: internal time\n",
        "   List reduced from 3468 to 5 due to restriction <5>\n",
        "\n",
        "   Ordered by: internal time\n",
        "   List reduced from 3409 to 5 due to restriction <5>\n"
       ]
      },
      {
       "output_type": "stream",
       "stream": "stdout",
       "text": [
        "\n",
        "   Ordered by: internal time\n",
        "   List reduced from 3409 to 5 due to restriction <5>\n"
       ]
      },
      {
       "output_type": "stream",
       "stream": "stdout",
       "text": [
        "\n",
        "   Ordered by: internal time\n",
        "   List reduced from 3552 to 5 due to restriction <5>\n"
       ]
      },
      {
       "output_type": "stream",
       "stream": "stdout",
       "text": [
        "\n",
        "   Ordered by: internal time\n",
        "   List reduced from 3552 to 5 due to restriction <5>\n"
       ]
      },
      {
       "output_type": "stream",
       "stream": "stdout",
       "text": [
        "\n",
        "   Ordered by: internal time\n",
        "   List reduced from 3554 to 5 due to restriction <5>\n"
       ]
      },
      {
       "output_type": "stream",
       "stream": "stdout",
       "text": [
        "\n",
        "   Ordered by: internal time\n",
        "   List reduced from 3554 to 5 due to restriction <5>\n"
       ]
      },
      {
       "output_type": "stream",
       "stream": "stdout",
       "text": [
        "\n"
       ]
      }
     ],
     "prompt_number": 222
    },
    {
     "cell_type": "code",
     "collapsed": false,
     "input": [
      "!cat cprofsummary.tex"
     ],
     "language": "python",
     "metadata": {},
     "outputs": [
      {
       "output_type": "stream",
       "stream": "stdout",
       "text": [
        "\\begin{table}\r\n",
        "{\\footnotesize \\begin{tabular}{r | r | l }\r\n",
        "Sim. &        Time (s) &                     Module:Function \\\\\r\n",
        "\\hline \\\\\r\n",
        "R / G2D / 20  &         11.7274 & \\texttt{<numpy.core.multiarray.array>} \\\\\r\n",
        "R / G2D / 20  &          6.1415 & \\texttt{numpy.lib.npyio}, \\texttt{loadtxt} \\\\\r\n",
        " &         5.18777 & \\texttt{tvb.simulator.simulator}, \\texttt{\\_\\_call\\_\\_} \\\\\r\n",
        " &         3.18454 & \\texttt{numpy.lib.npyio}, \\texttt{pack\\_items} \\\\\r\n",
        " &          2.5699 & \\texttt{numexpr.necompiler}, \\texttt{evaluate} \\\\\r\n",
        "\\hline\r\n",
        "2 &         11.8713 & \\texttt{<numpy.core.multiarray.array>} \\\\\r\n",
        "2 &         6.10448 & \\texttt{numpy.lib.npyio}, \\texttt{loadtxt} \\\\\r\n",
        " &         5.54546 & \\texttt{tvb.simulator.simulator}, \\texttt{\\_\\_call\\_\\_} \\\\\r\n",
        " &         3.16143 & \\texttt{numpy.lib.npyio}, \\texttt{pack\\_items} \\\\\r\n",
        " &         2.50565 & \\texttt{numexpr.necompiler}, \\texttt{evaluate} \\\\\r\n",
        "\\hline\r\n",
        " JR / 20  &         14.2185 & \\texttt{<numpy.core.multiarray.array>} \\\\\r\n",
        " JR / 20  &         9.99497 & \\texttt{tvb.simulator.simulator}, \\texttt{\\_\\_call\\_\\_} \\\\\r\n",
        " &         7.28498 & \\texttt{tvb.simulator.models}, \\texttt{dfun} \\\\\r\n",
        " &           6.202 & \\texttt{numpy.lib.npyio}, \\texttt{loadtxt} \\\\\r\n",
        " &         3.24052 & \\texttt{numpy.lib.npyio}, \\texttt{pack\\_items} \\\\\r\n",
        "\\hline\r\n",
        "2 &         14.2118 & \\texttt{<numpy.core.multiarray.array>} \\\\\r\n",
        "2 &         10.5795 & \\texttt{tvb.simulator.simulator}, \\texttt{\\_\\_call\\_\\_} \\\\\r\n",
        " &         7.40853 & \\texttt{tvb.simulator.models}, \\texttt{dfun} \\\\\r\n",
        " &         6.12069 & \\texttt{numpy.lib.npyio}, \\texttt{loadtxt} \\\\\r\n",
        " &         3.25811 & \\texttt{numpy.lib.npyio}, \\texttt{pack\\_items} \\\\\r\n",
        "\\hline\r\n",
        "S / G2D / 20 &         126.618 & \\texttt{<\\_csc.csc\\_matvec>} \\\\\r\n",
        "S / G2D / 20 &         57.5616 & \\texttt{<numpy.core.multiarray.array>} \\\\\r\n",
        " &         56.1767 & \\texttt{<gdist.local\\_gdist\\_matrix>} \\\\\r\n",
        " &           9.055 & \\texttt{<numpy.core.\\_dotblas.dot>} \\\\\r\n",
        " &         7.56356 & \\texttt{numpy.lib.npyio}, \\texttt{loadtxt} \\\\\r\n",
        "\\hline\r\n",
        "2 &         125.957 & \\texttt{<\\_csc.csc\\_matvec>} \\\\\r\n",
        "2 &         57.7524 & \\texttt{<numpy.core.multiarray.array>} \\\\\r\n",
        " &         56.1681 & \\texttt{<gdist.local\\_gdist\\_matrix>} \\\\\r\n",
        " &         12.1041 & \\texttt{<numpy.core.\\_dotblas.dot>} \\\\\r\n",
        " &         7.37826 & \\texttt{numpy.lib.npyio}, \\texttt{loadtxt} \\\\\r\n",
        "\\hline\r\n",
        "JR / 20 &         126.312 & \\texttt{<numpy.core.multiarray.array>} \\\\\r\n",
        "JR / 20 &         56.3731 & \\texttt{<gdist.local\\_gdist\\_matrix>} \\\\\r\n",
        " &         19.5234 & \\texttt{<numpy.core.\\_dotblas.dot>} \\\\\r\n",
        " &         9.47585 & \\texttt{tvb.simulator.models}, \\texttt{dfun} \\\\\r\n",
        " &         8.87173 & \\texttt{<mtrand.RandomState.normal>} \\\\\r\n",
        "\\hline\r\n",
        "2 &         126.098 & \\texttt{<numpy.core.multiarray.array>} \\\\\r\n",
        "2 &         56.7912 & \\texttt{<gdist.local\\_gdist\\_matrix>} \\\\\r\n",
        " &          29.109 & \\texttt{<numpy.core.\\_dotblas.dot>} \\\\\r\n",
        " &         14.1866 & \\texttt{<mtrand.RandomState.normal>} \\\\\r\n",
        " &         9.57245 & \\texttt{tvb.simulator.models}, \\texttt{dfun} \\\\\r\n",
        "\\hline\r\n",
        "\r\n",
        "\\end{tabular}\r\n",
        "\\caption{Profiling results for several simulation types, ``R'' for region \r\n",
        "level simulations, ``S'' for surface level. ``G2D'' signifies the generic\r\n",
        "two-dimensional oscillator whereas ``JR'' is the Jansen-Rit model. Finally,\r\n",
        "either 20 m/s or 2 m/s conduciton velocity was used. Time is given as the\r\n",
        "total time spent in the method or function listed in the right column.}\r\n",
        "}\\end{table}\r\n",
        "\r\n"
       ]
      }
     ],
     "prompt_number": 223
    },
    {
     "cell_type": "code",
     "collapsed": false,
     "input": [
      "!cat ./simulation.py"
     ],
     "language": "python",
     "metadata": {},
     "outputs": [
      {
       "output_type": "stream",
       "stream": "stdout",
       "text": [
        "import sys\r\n",
        "from time import time\r\n",
        "\r\n",
        "if len(sys.argv) < 3:\r\n",
        "    print 'usage: python simulation.py outfile_prefix id'\r\n",
        "    sys.exit()\r\n",
        "\r\n",
        "# simulation id from command line, use to determine parameters\r\n",
        "sid = int(sys.argv[2])\r\n",
        "\r\n",
        "# log activity by time to annotate Valgrind's output\r\n",
        "log_t0 = time()\r\n",
        "fd = open('%s-%d.txt' % (sys.argv[1], sid,), 'w')\r\n",
        "def LOG(msg, *args):\r\n",
        "    msg_ = \"%.3f\\t%s\\n\" % (time() - log_t0, msg % args)\r\n",
        "    sys.stderr.write(msg_)\r\n",
        "    fd.write(msg_)\r\n",
        "\r\n",
        "\r\n",
        "use_surface = sid & 4\r\n",
        "use_jr      = sid & 2\r\n",
        "use_slow_vc = sid & 1\r\n",
        "\r\n",
        "LOG('sid=%d use_surf=%s use_jr=%s use_slow_vc=%s', \r\n",
        "        sid, use_surface, use_jr, use_slow_vc)\r\n",
        "\r\n",
        "LOG('import simulator')\r\n",
        "from tvb.simulator.lab import (\r\n",
        "        coupling, integrators, noise, monitors, connectivity, \r\n",
        "        models, surfaces, simulator, array, nan\r\n",
        "    )\r\n",
        "\r\n",
        "LOG('common components')\r\n",
        "components = {\r\n",
        "    'coupling' : coupling.Linear(a=0.0043), #0.0066\r\n",
        "    'integrator' : integrators.HeunStochastic(\r\n",
        "        dt=2.0**-4, \r\n",
        "        noise=noise.Additive(nsig = array([2.0**-10,]))\r\n",
        "        ), \r\n",
        "    'monitors' : ( monitors.TemporalAverage(period=1000.0/512.0),),\r\n",
        "}\r\n",
        "\r\n",
        "LOG('connectivity')\r\n",
        "components['connectivity'] = \\\r\n",
        "        connectivity.Connectivity(speed=2.0 if use_slow_vc else 20.0)\r\n",
        "\r\n",
        "LOG('model')\r\n",
        "components['model'] = \\\r\n",
        "        (models.JRFast if use_jr else models.Generic2dOscillator)()\r\n",
        "\r\n",
        "if use_surface:\r\n",
        "    LOG('surface')\r\n",
        "    components['surface'] = \\\r\n",
        "            surfaces.Cortex(coupling_strength=array([0.1835]))\r\n",
        "\r\n",
        "LOG('simulator')\r\n",
        "sim = simulator.Simulator(**components)\r\n",
        "\r\n",
        "LOG('configure')\r\n",
        "sim.configure()\r\n",
        "\r\n",
        "LOG('create generator')\r\n",
        "gen = sim(1e2 if use_surface else 1e3)\r\n",
        "\r\n",
        "LOG('first step')\r\n",
        "_ = next(gen)\r\n",
        "\r\n",
        "LOG('begin integration loop')\r\n",
        "while True:\r\n",
        "\r\n",
        "    try:\r\n",
        "        (t0, surf), = next(gen)\r\n",
        "    except Exception as e:\r\n",
        "        break\r\n",
        "\r\n",
        "    if (surf==nan).any():\r\n",
        "        LOG ('found nan, breaking')\r\n",
        "        break\r\n",
        "\r\n",
        "LOG(repr(e))\r\n",
        "\r\n",
        "fd.close()\r\n",
        "\r\n"
       ]
      }
     ],
     "prompt_number": 172
    },
    {
     "cell_type": "code",
     "collapsed": false,
     "input": [],
     "language": "python",
     "metadata": {},
     "outputs": []
    }
   ],
   "metadata": {}
  }
 ]
}